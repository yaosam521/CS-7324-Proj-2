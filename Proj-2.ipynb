{
 "cells": [
  {
   "cell_type": "markdown",
   "id": "37908c56-ae0f-45c9-b019-bc3864fd3e0d",
   "metadata": {},
   "source": [
    "# Project 2\n",
    "by:\n",
    "- Rebecca Kuhlman\n",
    "- Michael Amberg\n",
    "- Sam Yao"
   ]
  },
  {
   "cell_type": "markdown",
   "id": "c5b45028-38cc-4d4b-89f0-8c6bc361356b",
   "metadata": {},
   "source": [
    "## Business Understanding\n",
    "Identifying the type of brain tumor a patient has is an important step in figuring out the treatment plan of a patient. They can be diagnosed via MRI imaging, leading to interest in using machine learning to diagnose the patient. Having a second opinion on brain tumor diagnoses would help improve patient care and outcomes, and lessen stress on doctors.\n",
    "In this dataset, there is glioma, meningioma, and pituitary tumors, as well as MRI images with no tumors.\n",
    "Glioma tumors are usually malignant, while meningioma and pituitary tumors are usually benign. Different types of tumors are made of different types of cells and have a location where they are most likely to be located.\n",
    "More information can be found at: https://www.mayoclinic.org/diseases-conditions/brain-tumor/symptoms-causes/syc-20350084\n",
    "There are many other types of tumors that future algorithms will be need to address. The majority of other types of tumors are more common in children, while the set we are dealing with are all adult brain images.\n",
    "\n",
    "Because the consequences of the algorithm being wrong are high, our model must be 90% or above. It should be noted that the majority of misdiagnose of brain tumors happen before a brain scan or related test is ordered.\n",
    "https://paulandperkins.com/brain-tumors/\n"
   ]
  },
  {
   "cell_type": "code",
   "execution_count": null,
   "id": "c292d4ab-edf0-42a7-b476-3bc02d425ea6",
   "metadata": {},
   "outputs": [],
   "source": []
  },
  {
   "cell_type": "markdown",
   "id": "d617b08d-342f-4b9f-bed7-7de11cbbcd11",
   "metadata": {},
   "source": [
    "## Data Preparation"
   ]
  },
  {
   "cell_type": "markdown",
   "id": "cc6e608d-78c3-49eb-aa11-90f6ace85011",
   "metadata": {},
   "source": [
    "Several helpful sources that helped this part of the section include:\n",
    "- [1] https://pillow.readthedocs.io/en/stable/handbook/tutorial.html\n",
    "- [2] https://towardsdatascience.com/loading-custom-image-dataset-for-deep-learning-models-part-1-d64fa7aaeca6"
   ]
  },
  {
   "cell_type": "code",
   "execution_count": 68,
   "id": "a198ffb6-8712-4419-94d6-92a570e85347",
   "metadata": {
    "tags": []
   },
   "outputs": [
    {
     "name": "stdout",
     "output_type": "stream",
     "text": [
      "262144\n"
     ]
    }
   ],
   "source": [
    "import pandas as pd\n",
    "import numpy as np\n",
    "import os\n",
    "from PIL import Image # Utilized Source [2]\n",
    "\n",
    "img = Image.open(\"./Training/glioma_tumor/gg (1).jpg\") # Utilized Source [1]\n",
    "img_arr = np.array(img)\n",
    "new_arr = list()\n",
    "for x in img_arr:\n",
    "    for y in x:\n",
    "        new_arr.append(y)\n",
    "print(len(new_arr))\n",
    "# This method creates the data, wether training or testing, in the form we desire\n",
    "# Uses code from source [2] to create the training datasets\n",
    "def create_dataset(img_folder):\n",
    "    # Read through all files in \"./Training\"\n",
    "    img_data_array=[]\n",
    "    class_name=[]\n",
    "    for dir1 in os.listdir(img_folder):\n",
    "        for file in os.listdir(os.path.join(img_folder, dir1)):\n",
    "            image_path= os.path.join(img_folder, dir1,  file)\n",
    "            image= np.array(Image.open(image_path))\n",
    "            image = np.resize(image, (1,262144,3)) #Vectorizes each image\n",
    "            image = image.astype('float32')\n",
    "            #image /= 255  \n",
    "            img_data_array.append(image)\n",
    "            class_name.append(dir1)\n",
    "    # return array with training data.\n",
    "    return img_data_array, class_name"
   ]
  },
  {
   "cell_type": "code",
   "execution_count": 69,
   "id": "092cc69c-f409-4eb0-9034-72751c377ad5",
   "metadata": {},
   "outputs": [],
   "source": [
    "df_training, training_classes = create_dataset(\"./Training\")\n",
    "df_testing, testing_classes = create_dataset(\"./Testing\")"
   ]
  },
  {
   "cell_type": "code",
   "execution_count": 73,
   "id": "f1f7e97c-0842-4b60-97ba-74a0ad069a77",
   "metadata": {},
   "outputs": [
    {
     "data": {
      "text/plain": [
       "(1, 262144, 3)"
      ]
     },
     "execution_count": 73,
     "metadata": {},
     "output_type": "execute_result"
    }
   ],
   "source": [
    "df_training[0].shape"
   ]
  },
  {
   "cell_type": "markdown",
   "id": "2cc100fd-a872-4c07-a457-b645624831e7",
   "metadata": {},
   "source": [
    "## Data Reduction"
   ]
  },
  {
   "cell_type": "code",
   "execution_count": null,
   "id": "e5f380f8-8286-4240-a944-d24b84df2ffa",
   "metadata": {},
   "outputs": [],
   "source": []
  },
  {
   "cell_type": "markdown",
   "id": "b0d288f5-6294-4ffc-b5e1-b7b2f4bd6179",
   "metadata": {},
   "source": [
    "## Exceptional Work 😡"
   ]
  },
  {
   "cell_type": "code",
   "execution_count": null,
   "id": "5bb467a8-0d45-4b50-9ecf-cc023520f0e5",
   "metadata": {},
   "outputs": [],
   "source": []
  }
 ],
 "metadata": {
  "kernelspec": {
   "display_name": "Python 3 (ipykernel)",
   "language": "python",
   "name": "python3"
  },
  "language_info": {
   "codemirror_mode": {
    "name": "ipython",
    "version": 3
   },
   "file_extension": ".py",
   "mimetype": "text/x-python",
   "name": "python",
   "nbconvert_exporter": "python",
   "pygments_lexer": "ipython3",
   "version": "3.9.13"
  }
 },
 "nbformat": 4,
 "nbformat_minor": 5
}
