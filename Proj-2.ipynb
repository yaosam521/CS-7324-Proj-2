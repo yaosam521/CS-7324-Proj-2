{
 "cells": [
  {
   "cell_type": "markdown",
   "id": "37908c56-ae0f-45c9-b019-bc3864fd3e0d",
   "metadata": {},
   "source": [
    "# Project 2\n",
    "by:\n",
    "- Rebecca Kuhlman\n",
    "- Michael Amberg\n",
    "- Sam Yao"
   ]
  },
  {
   "cell_type": "markdown",
   "id": "c5b45028-38cc-4d4b-89f0-8c6bc361356b",
   "metadata": {},
   "source": [
    "## Business Understanding"
   ]
  },
  {
   "cell_type": "code",
   "execution_count": null,
   "id": "c292d4ab-edf0-42a7-b476-3bc02d425ea6",
   "metadata": {},
   "outputs": [],
   "source": []
  },
  {
   "cell_type": "markdown",
   "id": "d617b08d-342f-4b9f-bed7-7de11cbbcd11",
   "metadata": {},
   "source": [
    "## Data Preparation"
   ]
  },
  {
   "cell_type": "code",
   "execution_count": null,
   "id": "a198ffb6-8712-4419-94d6-92a570e85347",
   "metadata": {},
   "outputs": [],
   "source": []
  },
  {
   "cell_type": "markdown",
   "id": "2cc100fd-a872-4c07-a457-b645624831e7",
   "metadata": {},
   "source": [
    "## Data Reduction"
   ]
  },
  {
   "cell_type": "code",
   "execution_count": null,
   "id": "e5f380f8-8286-4240-a944-d24b84df2ffa",
   "metadata": {},
   "outputs": [],
   "source": []
  },
  {
   "cell_type": "markdown",
   "id": "b0d288f5-6294-4ffc-b5e1-b7b2f4bd6179",
   "metadata": {},
   "source": [
    "## Exceptional Work 😡"
   ]
  },
  {
   "cell_type": "code",
   "execution_count": null,
   "id": "5bb467a8-0d45-4b50-9ecf-cc023520f0e5",
   "metadata": {},
   "outputs": [],
   "source": []
  }
 ],
 "metadata": {
  "kernelspec": {
   "display_name": "Python 3 (ipykernel)",
   "language": "python",
   "name": "python3"
  },
  "language_info": {
   "codemirror_mode": {
    "name": "ipython",
    "version": 3
   },
   "file_extension": ".py",
   "mimetype": "text/x-python",
   "name": "python",
   "nbconvert_exporter": "python",
   "pygments_lexer": "ipython3",
   "version": "3.9.13"
  }
 },
 "nbformat": 4,
 "nbformat_minor": 5
}
